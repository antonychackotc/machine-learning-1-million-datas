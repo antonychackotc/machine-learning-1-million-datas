{
  "nbformat": 4,
  "nbformat_minor": 0,
  "metadata": {
    "colab": {
      "provenance": [],
      "authorship_tag": "ABX9TyN/+Hs4JXDG2Lqt8h2bPX0r",
      "include_colab_link": true
    },
    "kernelspec": {
      "name": "python3",
      "display_name": "Python 3"
    },
    "language_info": {
      "name": "python"
    }
  },
  "cells": [
    {
      "cell_type": "markdown",
      "metadata": {
        "id": "view-in-github",
        "colab_type": "text"
      },
      "source": [
        "<a href=\"https://colab.research.google.com/github/antonychackotc/machine-learning-1-million-datas/blob/main/1_million_dataset.ipynb\" target=\"_parent\"><img src=\"https://colab.research.google.com/assets/colab-badge.svg\" alt=\"Open In Colab\"/></a>"
      ]
    },
    {
      "cell_type": "markdown",
      "source": [
        "# **Create 1 million fake dataset for testing**"
      ],
      "metadata": {
        "id": "RiyxkHhIeEbO"
      }
    },
    {
      "cell_type": "code",
      "execution_count": 1,
      "metadata": {
        "colab": {
          "base_uri": "https://localhost:8080/"
        },
        "id": "gggsTFMeeDDt",
        "outputId": "d2cf71bb-144d-4d4d-c14e-b01af06a0970"
      },
      "outputs": [
        {
          "output_type": "stream",
          "name": "stdout",
          "text": [
            "Collecting Faker\n",
            "  Downloading Faker-34.0.2-py3-none-any.whl.metadata (15 kB)\n",
            "Requirement already satisfied: python-dateutil>=2.4 in /usr/local/lib/python3.11/dist-packages (from Faker) (2.8.2)\n",
            "Requirement already satisfied: typing-extensions in /usr/local/lib/python3.11/dist-packages (from Faker) (4.12.2)\n",
            "Requirement already satisfied: six>=1.5 in /usr/local/lib/python3.11/dist-packages (from python-dateutil>=2.4->Faker) (1.17.0)\n",
            "Downloading Faker-34.0.2-py3-none-any.whl (1.9 MB)\n",
            "\u001b[2K   \u001b[90m━━━━━━━━━━━━━━━━━━━━━━━━━━━━━━━━━━━━━━━━\u001b[0m \u001b[32m1.9/1.9 MB\u001b[0m \u001b[31m20.0 MB/s\u001b[0m eta \u001b[36m0:00:00\u001b[0m\n",
            "\u001b[?25hInstalling collected packages: Faker\n",
            "Successfully installed Faker-34.0.2\n"
          ]
        }
      ],
      "source": [
        "pip install Faker"
      ]
    },
    {
      "cell_type": "code",
      "source": [
        "from faker import Faker\n",
        "import pandas as pd\n",
        "\n",
        "# Initialize Faker\n",
        "fake = Faker()\n",
        "\n",
        "# Number of rows\n",
        "num_rows = 9_00_000\n",
        "\n",
        "# Define the data structure\n",
        "data = {\n",
        "    \"Name\": [fake.name() for _ in range(num_rows)],\n",
        "    \"Email\": [fake.email() for _ in range(num_rows)],\n",
        "    \"Phone Number\": [fake.phone_number() for _ in range(num_rows)],\n",
        "    \"Address\": [fake.address() for _ in range(num_rows)],\n",
        "    \"City\": [fake.city() for _ in range(num_rows)],\n",
        "    \"State\": [fake.state() for _ in range(num_rows)],\n",
        "    \"Country\": [fake.country() for _ in range(num_rows)],\n",
        "    \"Company\": [fake.company() for _ in range(num_rows)],\n",
        "    \"Job Title\": [fake.job() for _ in range(num_rows)],\n",
        "    \"Date of Birth\": [fake.date_of_birth() for _ in range(num_rows)],\n",
        "    # Add numerical columns\n",
        "    \"Numeric_1\": [fake.random_int(min=1, max=100) for _ in range(num_rows)],  # Random integers between 1 and 100\n",
        "    \"Numeric_2\": [fake.pyfloat(left_digits=2, right_digits=3, positive=True) for _ in range(num_rows)],  # Random positive floats\n",
        "    \"Numeric_3\": [fake.random_number(digits=5, fix_len=True) for _ in range(num_rows)],  # 5-digit random numbers\n",
        "    \"Numeric_4\": [fake.random_int(min=100, max=1000) for _ in range(num_rows)],  # Random integers between 100 and 1000\n",
        "    # Add a target column based on one of the numeric columns\n",
        "    \"Target\": [fake.random_int(min=0, max=1) for _ in range(num_rows)],  # Binary target (0 or 1)\n",
        "}\n",
        "\n",
        "# Create a DataFrame\n",
        "df = pd.DataFrame(data)"
      ],
      "metadata": {
        "id": "Pjpzh7qMg3Xi"
      },
      "execution_count": 5,
      "outputs": []
    },
    {
      "cell_type": "code",
      "source": [
        "df.head()\n",
        "df.to_csv('1-million-data.csv')"
      ],
      "metadata": {
        "id": "M61XhrYMzrrv"
      },
      "execution_count": 7,
      "outputs": []
    }
  ]
}